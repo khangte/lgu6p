{
 "cells": [
  {
   "cell_type": "markdown",
   "id": "0230bcd6-5275-40ae-8507-6b4118bbb9fe",
   "metadata": {},
   "source": [
    "# SECTION 05\n",
    "## 타이타닉 생존율 예측 모형을 위한 데이터 전처리"
   ]
  },
  {
   "cell_type": "markdown",
   "id": "6a384f25-8e6d-45ed-8f22-5b2feb0ff5c0",
   "metadata": {},
   "source": [
    "캐글(Kaggle.com)에서 제공하는 타이타닉 데이터에 전처리를 적용해 다양한 머신러닝 방법론에 적용해볼 수 있도록 한다. 먼저 엑셀 파일을 읽어와서 분석에서 사용하지 않을 'boat', 'body', 'home.dest' 열을 삭제한 데이터프레임을 만든 후 학습용과 테스트용 데이터로 나눈다. 그리고 학습용 데이터를 확인해보자."
   ]
  },
  {
   "cell_type": "code",
   "execution_count": null,
   "id": "aee8e064-0561-428a-9ec4-7f026b8060f6",
   "metadata": {},
   "outputs": [],
   "source": []
  }
 ],
 "metadata": {
  "kernelspec": {
   "display_name": "Python 3 (ipykernel)",
   "language": "python",
   "name": "python3"
  },
  "language_info": {
   "codemirror_mode": {
    "name": "ipython",
    "version": 3
   },
   "file_extension": ".py",
   "mimetype": "text/x-python",
   "name": "python",
   "nbconvert_exporter": "python",
   "pygments_lexer": "ipython3",
   "version": "3.13.2"
  }
 },
 "nbformat": 4,
 "nbformat_minor": 5
}
